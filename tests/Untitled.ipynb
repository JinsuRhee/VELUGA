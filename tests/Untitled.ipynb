{
 "cells": [
  {
   "cell_type": "code",
   "execution_count": 2,
   "id": "c87e1b9b",
   "metadata": {},
   "outputs": [],
   "source": [
    "import veluga as v\n",
    "import numpy as np\n",
    "\n",
    "a=v.veluga('/home/jinsu/scratch/veluga/vrheader_NH.txt', num_thread=10)\n",
    "\n",
    "info=a.g_info(100) ## 100번 스냅샷 정보\n",
    "g=a.r_gal(100, 100) ## 100번 스냅샷의 ID 100번은하 LOAD"
   ]
  },
  {
   "cell_type": "code",
   "execution_count": 3,
   "id": "f87d6492",
   "metadata": {},
   "outputs": [
    {
     "data": {
      "text/plain": [
       "dtype([('ID', '<i4', (1,)), ('ID_mbp', '<i8', (1,)), ('hostHaloID', '<i4', (1,)), ('numSubStruct', '<i4', (1,)), ('Structuretype', '<i4', (1,)), ('Mvir', '<f8', (1,)), ('Mass_tot', '<f8', (1,)), ('Mass_FOF', '<f8', (1,)), ('Mass_200mean', '<f8', (1,)), ('Efrac', '<f8', (1,)), ('Mass_200crit', '<f8', (1,)), ('Rvir', '<f8', (1,)), ('R_size', '<f8', (1,)), ('R_200mean', '<f8', (1,)), ('R_200crit', '<f8', (1,)), ('R_HalfMass', '<f8', (1,)), ('R_HalfMass_200mean', '<f8', (1,)), ('R_HalfMass_200crit', '<f8', (1,)), ('Rmax', '<f8', (1,)), ('Xc', '<f8', (1,)), ('Yc', '<f8', (1,)), ('Zc', '<f8', (1,)), ('VXc', '<f8', (1,)), ('VYc', '<f8', (1,)), ('VZc', '<f8', (1,)), ('Lx', '<f8', (1,)), ('Ly', '<f8', (1,)), ('Lz', '<f8', (1,)), ('sigV', '<f8', (1,)), ('Vmax', '<f8', (1,)), ('npart', '<i4', (1,)), ('SFR', '<f8', (15,)), ('ABmag_NUV', '<f8', (3,)), ('ABmag_u', '<f8', (3,)), ('ABmag_g', '<f8', (3,)), ('ABmag_r', '<f8', (3,)), ('ABmag_i', '<f8', (3,)), ('ABmag_z', '<f8', (3,)), ('SB_NUV', '<f8', (3,)), ('SB_u', '<f8', (3,)), ('SB_g', '<f8', (3,)), ('SB_r', '<f8', (3,)), ('SB_i', '<f8', (3,)), ('SB_z', '<f8', (3,)), ('ConFrac_N', '<f8', (3,)), ('ConFrac_M', '<f8', (3,)), ('snapnum', '<i4', (1,)), ('redsh', '<f8', (1,)), ('Aexp', '<f8', (1,)), ('Domain_List', '<i4', (4800,)), ('isclump', '<i4', (1,)), ('flux_list', '<U10', (6,)), ('CONF_R', '<f8', (3,)), ('MAG_R', '<f8', (3,)), ('SFR_R', '<f8', (15,)), ('SFR_T', '<f8', (15,))])"
      ]
     },
     "execution_count": 3,
     "metadata": {},
     "output_type": "execute_result"
    }
   ],
   "source": [
    "g.dtype"
   ]
  },
  {
   "cell_type": "code",
   "execution_count": 6,
   "id": "7b71dcf0",
   "metadata": {},
   "outputs": [],
   "source": [
    "import sys\n",
    "sys.path.append('/home/jinsu/Work_dwarfcmd/rur')\n",
    "import rur"
   ]
  },
  {
   "cell_type": "code",
   "execution_count": null,
   "id": "d3d5423f",
   "metadata": {},
   "outputs": [],
   "source": []
  },
  {
   "cell_type": "code",
   "execution_count": null,
   "id": "31e8e437",
   "metadata": {},
   "outputs": [],
   "source": []
  },
  {
   "cell_type": "code",
   "execution_count": null,
   "id": "dfda858c",
   "metadata": {},
   "outputs": [],
   "source": []
  },
  {
   "cell_type": "code",
   "execution_count": null,
   "id": "d8fb7b9e",
   "metadata": {},
   "outputs": [],
   "source": []
  },
  {
   "cell_type": "code",
   "execution_count": null,
   "id": "0377007a",
   "metadata": {},
   "outputs": [],
   "source": []
  },
  {
   "cell_type": "code",
   "execution_count": null,
   "id": "f0adeceb",
   "metadata": {},
   "outputs": [],
   "source": []
  },
  {
   "cell_type": "code",
   "execution_count": 5,
   "id": "5bfa29a7",
   "metadata": {},
   "outputs": [
    {
     "data": {
      "text/plain": [
       "21815"
      ]
     },
     "execution_count": 5,
     "metadata": {},
     "output_type": "execute_result"
    }
   ],
   "source": [
    "np.size(p['temp'])"
   ]
  },
  {
   "cell_type": "code",
   "execution_count": 7,
   "id": "c59a8afb",
   "metadata": {},
   "outputs": [
    {
     "name": "stdout",
     "output_type": "stream",
     "text": [
      "MIN =  4.7814551776112776e-05\n",
      "MAX =  189.46663169950543\n",
      "AVG =  3.0163509968638644\n",
      "MED =  0.32374346999623327\n"
     ]
    }
   ],
   "source": [
    "a.stat(p['den'])"
   ]
  },
  {
   "cell_type": "code",
   "execution_count": 8,
   "id": "7b67e0d9",
   "metadata": {},
   "outputs": [
    {
     "name": "stdout",
     "output_type": "stream",
     "text": [
      "MIN =  -0.007989024723880397\n",
      "MAX =  0.004358097274701835\n",
      "AVG =  2.8602757558180745e-05\n",
      "MED =  0.0\n"
     ]
    }
   ],
   "source": [
    "a.stat(p[1][:,5])"
   ]
  },
  {
   "cell_type": "code",
   "execution_count": 12,
   "id": "da783ce6",
   "metadata": {},
   "outputs": [],
   "source": [
    "f=np.loadtxt(a.header.dir_raw + '/output_00001/hydro_file_descriptor.txt', dtype=object, skiprows=1, delimiter=':')"
   ]
  },
  {
   "cell_type": "code",
   "execution_count": 19,
   "id": "3908a595",
   "metadata": {},
   "outputs": [],
   "source": [
    "fdata=open(a.header.dir_raw + '/output_00001/hydro_file_descriptor.txt', 'r')\n",
    "lines=fdata.readlines()\n",
    "lines=lines[1:]"
   ]
  },
  {
   "cell_type": "code",
   "execution_count": 1,
   "id": "d5c41611",
   "metadata": {},
   "outputs": [],
   "source": [
    "import veluga as v\n",
    "import numpy as np\n",
    "\n",
    "a=v.veluga('/home/jinsu/scratch/veluga/vrheader_0.txt', num_thread=10)\n"
   ]
  },
  {
   "cell_type": "code",
   "execution_count": 2,
   "id": "7321982d",
   "metadata": {},
   "outputs": [],
   "source": [
    "b=a.g_amr(5, 0., 0., 0., 0., dom_list=np.arange(48)+1)"
   ]
  },
  {
   "cell_type": "code",
   "execution_count": 6,
   "id": "4d701746",
   "metadata": {},
   "outputs": [
    {
     "name": "stdout",
     "output_type": "stream",
     "text": [
      "MIN =  0.12205755885331754\n",
      "MAX =  1.9529209416530806\n",
      "AVG =  0.9476551613669351\n",
      "MED =  0.12205755885331754\n"
     ]
    }
   ],
   "source": [
    "a.stat(b['dx'])"
   ]
  },
  {
   "cell_type": "code",
   "execution_count": 6,
   "id": "d327d683",
   "metadata": {},
   "outputs": [
    {
     "name": "stdout",
     "output_type": "stream",
     "text": [
      "MIN =  0.9765625\n",
      "MAX =  499.0234375\n",
      "AVG =  249.9993989260277\n",
      "MED =  250.06103515625\n"
     ]
    }
   ],
   "source": [
    "a.stat(d[:,0])"
   ]
  },
  {
   "cell_type": "code",
   "execution_count": 5,
   "id": "b4c44182",
   "metadata": {},
   "outputs": [
    {
     "name": "stdout",
     "output_type": "stream",
     "text": [
      "MIN =  8\n",
      "MAX =  12\n",
      "AVG =  10.161077076077099\n",
      "MED =  12.0\n"
     ]
    }
   ],
   "source": [
    "a.stat(lv)"
   ]
  }
 ],
 "metadata": {
  "kernelspec": {
   "display_name": "Python 3 (ipykernel)",
   "language": "python",
   "name": "python3"
  },
  "language_info": {
   "codemirror_mode": {
    "name": "ipython",
    "version": 3
   },
   "file_extension": ".py",
   "mimetype": "text/x-python",
   "name": "python",
   "nbconvert_exporter": "python",
   "pygments_lexer": "ipython3",
   "version": "3.10.9"
  }
 },
 "nbformat": 4,
 "nbformat_minor": 5
}
